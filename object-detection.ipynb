{
 "cells": [
  {
   "attachments": {},
   "cell_type": "markdown",
   "metadata": {},
   "source": [
    "## Cerinta\n",
    " - Identifica o camera web publica de la care poti prelua un stream video (minimum 720p/20fps) prin rtsp/webrtc – de preferat imaginile sa fie dintr-un spatiu deschis in aer liber cu persoane sau masini\n",
    " - Creeaza o aplicatie prin care:\n",
    "    - Sa te conectezi la camera pentru preluare de imagini (opencv sau alternativa)\n",
    "    - Aplica doua modele pentru detectie de obiecte pe acest stream video (modelele trebuie sa fie diferite din perspectiva capacitatii de procesare (ex effDet5 vs YoloV2)\n",
    "    - Afiseaza in paralel doua imagini de la stream-ul procesat (una pentru fiecare model) – cu un overlay care sa contina box-uri care incadreaza obiectele detectate\n",
    "    - Cele doua ferestre/imagini trebuie sa fie sincronizate (atentie: modelul mai rapid va procesa mai multe frame-uri decat cel mai incet)\n",
    "- Codul trebuie structurat pe o arhitectura OOP"
   ]
  },
  {
   "attachments": {},
   "cell_type": "markdown",
   "metadata": {},
   "source": [
    "## Imports"
   ]
  },
  {
   "cell_type": "code",
   "execution_count": 1,
   "metadata": {},
   "outputs": [],
   "source": [
    "from ultralytics import YOLO\n",
    "import cv2"
   ]
  },
  {
   "attachments": {},
   "cell_type": "markdown",
   "metadata": {},
   "source": [
    "## Object Detection   "
   ]
  },
  {
   "cell_type": "code",
   "execution_count": null,
   "metadata": {},
   "outputs": [],
   "source": [
    "stream = \"rtmp://127.0.0.1/live/gopro9\" # stream link\n",
    "cap = cv2.VideoCapture(stream) # open stream\n",
    "\n",
    "model1 = YOLO(\"yolov8n.pt\") # load first model\n",
    "model2 = YOLO(\"yolov5su.pt\") # load second model\n",
    "\n",
    "while True: \n",
    "    succes, img = cap.read() # read frame from stream\n",
    "    res1 = model1(img, device='mps') # predict for first model, replace mps with cuda for nvidia gpu\n",
    "    res_plotted = res1[0].plot() # plot results for first model \n",
    "\n",
    "\n",
    "    res2 = model2(img, device='mps') # predict for second model, replace mps with cuda for nvidia gpu\n",
    "    res2_plotted = res2[0].plot() # plot results for second model\n",
    "\n",
    "    cv2.imshow(\"Yolo v8\", res_plotted) # show results for first model\n",
    "    cv2.imshow(\"Yolo v5\", res2_plotted) # show results for second model\n",
    "\n",
    "    if cv2.waitKey(1) & 0xFF == ord('q'): # press q to stop\n",
    "        break"
   ]
  }
 ],
 "metadata": {
  "kernelspec": {
   "display_name": "torch-gpu",
   "language": "python",
   "name": "python3"
  },
  "language_info": {
   "codemirror_mode": {
    "name": "ipython",
    "version": 3
   },
   "file_extension": ".py",
   "mimetype": "text/x-python",
   "name": "python",
   "nbconvert_exporter": "python",
   "pygments_lexer": "ipython3",
   "version": "3.8.16"
  },
  "orig_nbformat": 4
 },
 "nbformat": 4,
 "nbformat_minor": 2
}
